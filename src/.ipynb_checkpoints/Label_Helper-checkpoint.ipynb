{
 "cells": [
  {
   "cell_type": "code",
   "execution_count": 1,
   "id": "aeb17753",
   "metadata": {},
   "outputs": [],
   "source": [
    "import pandas as pd\n",
    "import numpy as np\n",
    "import os"
   ]
  },
  {
   "cell_type": "code",
   "execution_count": 2,
   "id": "cd5835f0",
   "metadata": {},
   "outputs": [
    {
     "name": "stdout",
     "output_type": "stream",
     "text": [
      "          TIME_VISITED                                              TITLE  \\\n",
      "0  2021-11-18 00:11:33  section_5_solutions_vVBDODDiXcVEWausVbSZ7eZgSp...   \n",
      "1  2021-11-18 09:34:53  section_5_solutions_vVBDODDiXcVEWausVbSZ7eZgSp...   \n",
      "2  2021-11-11 01:30:34         Computer Science < Northeastern University   \n",
      "3  2021-11-18 00:03:55                                 q2B_review_sol.pdf   \n",
      "4  2021-11-12 02:39:16                                                NaN   \n",
      "\n",
      "                                                 URL  \n",
      "0  http://ai.berkeley.edu/sections/section_5_solu...  \n",
      "1  http://ai.berkeley.edu/sections/section_5_solu...  \n",
      "2  http://catalog.northeastern.edu/graduate/compu...  \n",
      "3  http://courses.csail.mit.edu/6.034s/handouts/s...  \n",
      "4                                 http://google.com/  \n"
     ]
    }
   ],
   "source": [
    "input_path = \"../data/web_history/filtered.csv\"\n",
    "output_path = \"../data/web_history/with_labels.csv\"\n",
    "meta_path = \"../data/web_history/meta.npy\"\n",
    "df = pd.read_csv(input_path)\n",
    "df = df.drop(columns=[\"Unnamed: 0\"])\n",
    "print(df.head())"
   ]
  },
  {
   "cell_type": "code",
   "execution_count": null,
   "id": "58c17260",
   "metadata": {},
   "outputs": [
    {
     "name": "stdout",
     "output_type": "stream",
     "text": [
      "Use existing meta Y or N\n",
      "y\n",
      "Labelling starts from : 5\n",
      "0 Already Labelled!\n",
      "1 Already Labelled!\n",
      "2 Already Labelled!\n",
      "3 Already Labelled!\n",
      "4 Already Labelled!\n",
      "\n",
      "URL INDEX :  5\n",
      "\n",
      "\n",
      "Time Visited:  2021-11-12 02:51:47  \n",
      "Title:         herdthan.com/f9945uxw?key=0f22c1fd609f13cb7947c8cabfe1a90d&submetric=15940655  \n",
      "URL:           http://herdthan.com/f9945uxw?key=0f22c1fd609f13cb7947c8cabfe1a90d&submetric=15940655\n",
      "W: Work S: Shopping E: Entertainment M: MISC O: Write to Disk \n",
      "\n",
      "\n",
      "\n",
      "ROW NOT RECORDED\n",
      "\n",
      "URL INDEX :  6\n",
      "\n",
      "\n",
      "Time Visited:  2021-11-12 02:51:47  \n",
      "Title:         herdthan.com/f9945uxw?key=0f22c1fd609f13cb7947c8cabfe1a90d&submetric=15940655  \n",
      "URL:           http://herdthan.com/f9945uxw?key=0f22c1fd609f13cb7947c8cabfe1a90d&submetric=15940655\n",
      "W: Work S: Shopping E: Entertainment M: MISC O: Write to Disk \n",
      "\n",
      "\n",
      "\n",
      "ROW NOT RECORDED\n",
      "\n",
      "URL INDEX :  7\n",
      "\n",
      "\n",
      "Time Visited:  2021-11-12 02:51:47  \n",
      "Title:         nan  \n",
      "URL:           http://herdthan.com/f9945uxw?sygm=43&refer=https%3A%2F%2Fhblinks.pro%2Farchives%2F38608&kw=%5B%22venom%22%2C%222%22%2C%222021%22%2C%221080p%22%2C%22hdrip%22%2C%22hindi%22%2C%22%E2%80%93%22%2C%22hublinks%22%5D&key=c42745e1c6055637c7a28147e3ed7aa4&scrWidth=1536&scrHeight=864&tz=-5&v=21.9.v.12&ship=&res=12.1055&dev=e&adb=n&uuid=e6624298-cded-4991-b427-3f40ae25f948%3A3%3A1\n",
      "W: Work S: Shopping E: Entertainment M: MISC O: Write to Disk \n",
      "\n",
      "\n",
      "\n",
      "ROW NOT RECORDED\n",
      "\n",
      "URL INDEX :  8\n",
      "\n",
      "\n",
      "Time Visited:  2021-11-12 02:29:51  \n",
      "Title:         invariablyedacityedacitypeach.com/f9945uxw?key=0f22c1fd609f13cb7947c8cabfe1a90d&submetric=15940655  \n",
      "URL:           http://invariablyedacityedacitypeach.com/f9945uxw?key=0f22c1fd609f13cb7947c8cabfe1a90d&submetric=15940655\n",
      "W: Work S: Shopping E: Entertainment M: MISC O: Write to Disk \n",
      "\n",
      "\n",
      "\n",
      "ROW NOT RECORDED\n",
      "\n",
      "URL INDEX :  9\n",
      "\n",
      "\n",
      "Time Visited:  2021-11-12 02:29:51  \n",
      "Title:         invariablyedacityedacitypeach.com/f9945uxw?key=0f22c1fd609f13cb7947c8cabfe1a90d&submetric=15940655  \n",
      "URL:           http://invariablyedacityedacitypeach.com/f9945uxw?key=0f22c1fd609f13cb7947c8cabfe1a90d&submetric=15940655\n"
     ]
    }
   ],
   "source": [
    "df_with_labels = pd.DataFrame()\n",
    "use_meta = False\n",
    "\n",
    "if os.path.exists(meta_path):\n",
    "    um = input(str(\"Use existing meta Y or N\\n\"))\n",
    "    if um == \"y\" or um == \"Y\":\n",
    "        use_meta = True\n",
    "        df_with_labels = pd.read_csv(output_path)\n",
    "        df_with_labels = df_with_labels.drop(columns=[\"Unnamed: 0\"])\n",
    "        meta_index = np.load(meta_path)\n",
    "        print(\"Labelling starts from :\", meta_index[0])\n",
    "    else:\n",
    "        os.remove(output_path)\n",
    "        os.remove(meta_path)\n",
    "        print(\"Will discard old labels and meta\")\n",
    "        \n",
    "for index, row in df.iterrows():\n",
    "    if use_meta and meta_index[0] > index:\n",
    "        print(index, str(\"Already Labelled!\"))\n",
    "        continue\n",
    "    print(\"\\nURL INDEX : \", index)\n",
    "    print(\"\\n\\nTime Visited: \",row['TIME_VISITED'], \" \\nTitle:        \", row['TITLE'], \" \\nURL:          \", row['URL'],flush=True)\n",
    "    inp = input(str(\"W: Work \") + str(\"S: Shopping \") + str(\"E: Entertainment \") + str(\"T: Travel \") + str(\"M: MISC \") + str(\"O: Write to Disk \\n\\n\"))\n",
    "    \n",
    "    if inp == \"o\" or inp == \"O\":\n",
    "        df_with_labels.to_csv(output_path)\n",
    "        meta_index = np.array([index])\n",
    "        np.save(meta_path, meta_index)\n",
    "        break\n",
    "    elif inp == \"\" or inp == \" \":\n",
    "        print(\"\\nROW NOT RECORDED\")\n",
    "        continue\n",
    "    elif inp == \"w\" or inp == \"W\":\n",
    "        print(\"Work recorded\")\n",
    "        label = \"WORK\"\n",
    "    elif inp == \"s\" or inp == \"S\":\n",
    "        print(\"Shopping recorded\")\n",
    "        label = \"SHOPPING\"\n",
    "    elif inp == \"e\" or inp == \"E\":\n",
    "        print(\"Entertainment recorded\")\n",
    "        label = \"ENTERTAINMENT\"\n",
    "    elif inp == \"m\" or inp == \"M\":\n",
    "        print(\"MISC recorded\")\n",
    "        label = \"MISC\"\n",
    "    elif inp == \"t\" or inp == \"T\":\n",
    "        print(\"Travel recorded\")\n",
    "        label = \"TRAVEL\"\n",
    "    else:\n",
    "        print(\"Row Not Recorded\", Index)\n",
    "        continue\n",
    "    \n",
    "    print(row['TIME_VISITED'],row['TITLE'],row['URL'])\n",
    "    record = pd.DataFrame({\"Time_Visited\" : [row['TIME_VISITED']],\"Title\":[row['TITLE']], \"URL\": [row['URL']], \"LABEL\":[label]})\n",
    "    df_with_labels = df_with_labels.append(record, ignore_index=True)"
   ]
  },
  {
   "cell_type": "code",
   "execution_count": null,
   "id": "84b4bd45",
   "metadata": {},
   "outputs": [],
   "source": [
    "df_with_labels.head()"
   ]
  },
  {
   "cell_type": "code",
   "execution_count": null,
   "id": "35a04538",
   "metadata": {},
   "outputs": [],
   "source": [
    "df_with_labels.LABEL.describe()"
   ]
  },
  {
   "cell_type": "code",
   "execution_count": null,
   "id": "a4c9d8b7",
   "metadata": {},
   "outputs": [],
   "source": [
    "df_with_labels.LABEL"
   ]
  },
  {
   "cell_type": "code",
   "execution_count": null,
   "id": "ce69b8bd",
   "metadata": {},
   "outputs": [],
   "source": [
    "os.remove(output_path)\n",
    "os.remove(meta_path)"
   ]
  },
  {
   "cell_type": "code",
   "execution_count": null,
   "id": "2a0178b4",
   "metadata": {},
   "outputs": [],
   "source": []
  }
 ],
 "metadata": {
  "kernelspec": {
   "display_name": "Python 3",
   "language": "python",
   "name": "python3"
  },
  "language_info": {
   "codemirror_mode": {
    "name": "ipython",
    "version": 3
   },
   "file_extension": ".py",
   "mimetype": "text/x-python",
   "name": "python",
   "nbconvert_exporter": "python",
   "pygments_lexer": "ipython3",
   "version": "3.6.13"
  }
 },
 "nbformat": 4,
 "nbformat_minor": 5
}
