{
 "cells": [
  {
   "cell_type": "code",
   "execution_count": 1,
   "id": "6e4dc13a",
   "metadata": {},
   "outputs": [],
   "source": [
    "import pandas as pd\n",
    "import numpy"
   ]
  },
  {
   "cell_type": "code",
   "execution_count": 6,
   "id": "f869eed0",
   "metadata": {},
   "outputs": [],
   "source": [
    "csv_path = \"C:/Users/siddi/Working/AI/NER-Bert/WebHistory/rahul_history.xls\"\n",
    "df = pd.read_excel(csv_path)"
   ]
  },
  {
   "cell_type": "code",
   "execution_count": 7,
   "id": "721dfe36",
   "metadata": {},
   "outputs": [
    {
     "name": "stdout",
     "output_type": "stream",
     "text": [
      "<class 'pandas.core.frame.DataFrame'>\n",
      "RangeIndex: 4020 entries, 0 to 4019\n",
      "Data columns (total 13 columns):\n",
      " #   Column           Non-Null Count  Dtype         \n",
      "---  ------           --------------  -----         \n",
      " 0   URL              4020 non-null   object        \n",
      " 1   Title            3791 non-null   object        \n",
      " 2   Visit Time       4020 non-null   datetime64[ns]\n",
      " 3   Visit Count      4020 non-null   int64         \n",
      " 4   Visited From     1500 non-null   object        \n",
      " 5   Visit Type       3861 non-null   object        \n",
      " 6   Web Browser      4020 non-null   object        \n",
      " 7   User Profile     4020 non-null   object        \n",
      " 8   Browser Profile  3917 non-null   object        \n",
      " 9   URL Length       4020 non-null   int64         \n",
      " 10  Typed Count      3861 non-null   float64       \n",
      " 11  History File     4020 non-null   object        \n",
      " 12  Record ID        4020 non-null   int64         \n",
      "dtypes: datetime64[ns](1), float64(1), int64(3), object(8)\n",
      "memory usage: 408.4+ KB\n"
     ]
    }
   ],
   "source": [
    "df.info()"
   ]
  },
  {
   "cell_type": "code",
   "execution_count": 8,
   "id": "34baf5a9",
   "metadata": {},
   "outputs": [
    {
     "name": "stdout",
     "output_type": "stream",
     "text": [
      "<class 'pandas.core.frame.DataFrame'>\n",
      "Int64Index: 3853 entries, 164 to 4016\n",
      "Data columns (total 13 columns):\n",
      " #   Column           Non-Null Count  Dtype         \n",
      "---  ------           --------------  -----         \n",
      " 0   URL              3853 non-null   object        \n",
      " 1   Title            3727 non-null   object        \n",
      " 2   Visit Time       3853 non-null   datetime64[ns]\n",
      " 3   Visit Count      3853 non-null   int64         \n",
      " 4   Visited From     1500 non-null   object        \n",
      " 5   Visit Type       3828 non-null   object        \n",
      " 6   Web Browser      3853 non-null   object        \n",
      " 7   User Profile     3853 non-null   object        \n",
      " 8   Browser Profile  3851 non-null   object        \n",
      " 9   URL Length       3853 non-null   int64         \n",
      " 10  Typed Count      3828 non-null   float64       \n",
      " 11  History File     3853 non-null   object        \n",
      " 12  Record ID        3853 non-null   int64         \n",
      "dtypes: datetime64[ns](1), float64(1), int64(3), object(8)\n",
      "memory usage: 421.4+ KB\n"
     ]
    }
   ],
   "source": [
    "http_df = df[df['URL'].str.match('^http.*')== True]\n",
    "http_df.info()"
   ]
  },
  {
   "cell_type": "code",
   "execution_count": 9,
   "id": "05de1193",
   "metadata": {},
   "outputs": [
    {
     "data": {
      "text/html": [
       "<div>\n",
       "<style scoped>\n",
       "    .dataframe tbody tr th:only-of-type {\n",
       "        vertical-align: middle;\n",
       "    }\n",
       "\n",
       "    .dataframe tbody tr th {\n",
       "        vertical-align: top;\n",
       "    }\n",
       "\n",
       "    .dataframe thead th {\n",
       "        text-align: right;\n",
       "    }\n",
       "</style>\n",
       "<table border=\"1\" class=\"dataframe\">\n",
       "  <thead>\n",
       "    <tr style=\"text-align: right;\">\n",
       "      <th></th>\n",
       "      <th>URL</th>\n",
       "      <th>Title</th>\n",
       "      <th>Visit Time</th>\n",
       "      <th>Visit Count</th>\n",
       "      <th>Visited From</th>\n",
       "      <th>Visit Type</th>\n",
       "      <th>Web Browser</th>\n",
       "      <th>User Profile</th>\n",
       "      <th>Browser Profile</th>\n",
       "      <th>URL Length</th>\n",
       "      <th>Typed Count</th>\n",
       "      <th>History File</th>\n",
       "      <th>Record ID</th>\n",
       "    </tr>\n",
       "  </thead>\n",
       "  <tbody>\n",
       "    <tr>\n",
       "      <th>164</th>\n",
       "      <td>http://ai.berkeley.edu/sections/section_5_solu...</td>\n",
       "      <td>section_5_solutions_vVBDODDiXcVEWausVbSZ7eZgSp...</td>\n",
       "      <td>2021-11-18 00:11:33</td>\n",
       "      <td>1</td>\n",
       "      <td>https://www.google.com/search?q=.+With+Q+Learn...</td>\n",
       "      <td>Link</td>\n",
       "      <td>Chrome</td>\n",
       "      <td>welcome</td>\n",
       "      <td>Default</td>\n",
       "      <td>86</td>\n",
       "      <td>0.0</td>\n",
       "      <td>C:\\Users\\welcome\\AppData\\Local\\Google\\Chrome\\U...</td>\n",
       "      <td>8739</td>\n",
       "    </tr>\n",
       "    <tr>\n",
       "      <th>165</th>\n",
       "      <td>http://ai.berkeley.edu/sections/section_5_solu...</td>\n",
       "      <td>section_5_solutions_vVBDODDiXcVEWausVbSZ7eZgSp...</td>\n",
       "      <td>2021-11-18 09:34:53</td>\n",
       "      <td>1</td>\n",
       "      <td>NaN</td>\n",
       "      <td>Reload</td>\n",
       "      <td>Chrome</td>\n",
       "      <td>welcome</td>\n",
       "      <td>Default</td>\n",
       "      <td>86</td>\n",
       "      <td>0.0</td>\n",
       "      <td>C:\\Users\\welcome\\AppData\\Local\\Google\\Chrome\\U...</td>\n",
       "      <td>8829</td>\n",
       "    </tr>\n",
       "    <tr>\n",
       "      <th>166</th>\n",
       "      <td>http://catalog.northeastern.edu/graduate/compu...</td>\n",
       "      <td>Computer Science &lt; Northeastern University</td>\n",
       "      <td>2021-11-11 01:30:34</td>\n",
       "      <td>1</td>\n",
       "      <td>https://www.google.com/search?q=northeaster+co...</td>\n",
       "      <td>Link</td>\n",
       "      <td>Chrome</td>\n",
       "      <td>welcome</td>\n",
       "      <td>Default</td>\n",
       "      <td>87</td>\n",
       "      <td>0.0</td>\n",
       "      <td>C:\\Users\\welcome\\AppData\\Local\\Google\\Chrome\\U...</td>\n",
       "      <td>7711</td>\n",
       "    </tr>\n",
       "    <tr>\n",
       "      <th>167</th>\n",
       "      <td>http://courses.csail.mit.edu/6.034s/handouts/s...</td>\n",
       "      <td>q2B_review_sol.pdf</td>\n",
       "      <td>2021-11-18 00:03:55</td>\n",
       "      <td>1</td>\n",
       "      <td>NaN</td>\n",
       "      <td>Link</td>\n",
       "      <td>Chrome</td>\n",
       "      <td>welcome</td>\n",
       "      <td>Default</td>\n",
       "      <td>72</td>\n",
       "      <td>0.0</td>\n",
       "      <td>C:\\Users\\welcome\\AppData\\Local\\Google\\Chrome\\U...</td>\n",
       "      <td>8724</td>\n",
       "    </tr>\n",
       "    <tr>\n",
       "      <th>168</th>\n",
       "      <td>http://google.com/</td>\n",
       "      <td>NaN</td>\n",
       "      <td>2021-11-12 02:39:16</td>\n",
       "      <td>1</td>\n",
       "      <td>NaN</td>\n",
       "      <td>Keyword Generated</td>\n",
       "      <td>Chrome</td>\n",
       "      <td>welcome</td>\n",
       "      <td>Default</td>\n",
       "      <td>18</td>\n",
       "      <td>1.0</td>\n",
       "      <td>C:\\Users\\welcome\\AppData\\Local\\Google\\Chrome\\U...</td>\n",
       "      <td>8098</td>\n",
       "    </tr>\n",
       "  </tbody>\n",
       "</table>\n",
       "</div>"
      ],
      "text/plain": [
       "                                                   URL  \\\n",
       "164  http://ai.berkeley.edu/sections/section_5_solu...   \n",
       "165  http://ai.berkeley.edu/sections/section_5_solu...   \n",
       "166  http://catalog.northeastern.edu/graduate/compu...   \n",
       "167  http://courses.csail.mit.edu/6.034s/handouts/s...   \n",
       "168                                 http://google.com/   \n",
       "\n",
       "                                                 Title          Visit Time  \\\n",
       "164  section_5_solutions_vVBDODDiXcVEWausVbSZ7eZgSp... 2021-11-18 00:11:33   \n",
       "165  section_5_solutions_vVBDODDiXcVEWausVbSZ7eZgSp... 2021-11-18 09:34:53   \n",
       "166         Computer Science < Northeastern University 2021-11-11 01:30:34   \n",
       "167                                 q2B_review_sol.pdf 2021-11-18 00:03:55   \n",
       "168                                                NaN 2021-11-12 02:39:16   \n",
       "\n",
       "     Visit Count                                       Visited From  \\\n",
       "164            1  https://www.google.com/search?q=.+With+Q+Learn...   \n",
       "165            1                                                NaN   \n",
       "166            1  https://www.google.com/search?q=northeaster+co...   \n",
       "167            1                                                NaN   \n",
       "168            1                                                NaN   \n",
       "\n",
       "            Visit Type Web Browser User Profile Browser Profile  URL Length  \\\n",
       "164               Link      Chrome      welcome         Default          86   \n",
       "165             Reload      Chrome      welcome         Default          86   \n",
       "166               Link      Chrome      welcome         Default          87   \n",
       "167               Link      Chrome      welcome         Default          72   \n",
       "168  Keyword Generated      Chrome      welcome         Default          18   \n",
       "\n",
       "     Typed Count                                       History File  Record ID  \n",
       "164          0.0  C:\\Users\\welcome\\AppData\\Local\\Google\\Chrome\\U...       8739  \n",
       "165          0.0  C:\\Users\\welcome\\AppData\\Local\\Google\\Chrome\\U...       8829  \n",
       "166          0.0  C:\\Users\\welcome\\AppData\\Local\\Google\\Chrome\\U...       7711  \n",
       "167          0.0  C:\\Users\\welcome\\AppData\\Local\\Google\\Chrome\\U...       8724  \n",
       "168          1.0  C:\\Users\\welcome\\AppData\\Local\\Google\\Chrome\\U...       8098  "
      ]
     },
     "execution_count": 9,
     "metadata": {},
     "output_type": "execute_result"
    }
   ],
   "source": [
    "http_df.head()"
   ]
  },
  {
   "cell_type": "code",
   "execution_count": 10,
   "id": "a566780d",
   "metadata": {},
   "outputs": [
    {
     "data": {
      "text/html": [
       "<div>\n",
       "<style scoped>\n",
       "    .dataframe tbody tr th:only-of-type {\n",
       "        vertical-align: middle;\n",
       "    }\n",
       "\n",
       "    .dataframe tbody tr th {\n",
       "        vertical-align: top;\n",
       "    }\n",
       "\n",
       "    .dataframe thead th {\n",
       "        text-align: right;\n",
       "    }\n",
       "</style>\n",
       "<table border=\"1\" class=\"dataframe\">\n",
       "  <thead>\n",
       "    <tr style=\"text-align: right;\">\n",
       "      <th></th>\n",
       "      <th>TIME_VISITED</th>\n",
       "      <th>TITLE</th>\n",
       "      <th>URL</th>\n",
       "    </tr>\n",
       "  </thead>\n",
       "  <tbody>\n",
       "    <tr>\n",
       "      <th>0</th>\n",
       "      <td>2021-11-18 00:11:33</td>\n",
       "      <td>section_5_solutions_vVBDODDiXcVEWausVbSZ7eZgSp...</td>\n",
       "      <td>http://ai.berkeley.edu/sections/section_5_solu...</td>\n",
       "    </tr>\n",
       "    <tr>\n",
       "      <th>1</th>\n",
       "      <td>2021-11-18 09:34:53</td>\n",
       "      <td>section_5_solutions_vVBDODDiXcVEWausVbSZ7eZgSp...</td>\n",
       "      <td>http://ai.berkeley.edu/sections/section_5_solu...</td>\n",
       "    </tr>\n",
       "    <tr>\n",
       "      <th>2</th>\n",
       "      <td>2021-11-11 01:30:34</td>\n",
       "      <td>Computer Science &lt; Northeastern University</td>\n",
       "      <td>http://catalog.northeastern.edu/graduate/compu...</td>\n",
       "    </tr>\n",
       "    <tr>\n",
       "      <th>3</th>\n",
       "      <td>2021-11-18 00:03:55</td>\n",
       "      <td>q2B_review_sol.pdf</td>\n",
       "      <td>http://courses.csail.mit.edu/6.034s/handouts/s...</td>\n",
       "    </tr>\n",
       "    <tr>\n",
       "      <th>4</th>\n",
       "      <td>2021-11-12 02:39:16</td>\n",
       "      <td>NaN</td>\n",
       "      <td>http://google.com/</td>\n",
       "    </tr>\n",
       "  </tbody>\n",
       "</table>\n",
       "</div>"
      ],
      "text/plain": [
       "         TIME_VISITED                                              TITLE  \\\n",
       "0 2021-11-18 00:11:33  section_5_solutions_vVBDODDiXcVEWausVbSZ7eZgSp...   \n",
       "1 2021-11-18 09:34:53  section_5_solutions_vVBDODDiXcVEWausVbSZ7eZgSp...   \n",
       "2 2021-11-11 01:30:34         Computer Science < Northeastern University   \n",
       "3 2021-11-18 00:03:55                                 q2B_review_sol.pdf   \n",
       "4 2021-11-12 02:39:16                                                NaN   \n",
       "\n",
       "                                                 URL  \n",
       "0  http://ai.berkeley.edu/sections/section_5_solu...  \n",
       "1  http://ai.berkeley.edu/sections/section_5_solu...  \n",
       "2  http://catalog.northeastern.edu/graduate/compu...  \n",
       "3  http://courses.csail.mit.edu/6.034s/handouts/s...  \n",
       "4                                 http://google.com/  "
      ]
     },
     "execution_count": 10,
     "metadata": {},
     "output_type": "execute_result"
    }
   ],
   "source": [
    "filtered_df = pd.DataFrame({\"TIME_VISITED\": http_df['Visit Time'],\"TITLE\": http_df.Title,\"URL\": http_df.URL})\n",
    "filtered_df = filtered_df.reset_index()\n",
    "filtered_df = filtered_df.drop(columns =['index'])\n",
    "filtered_df.head()"
   ]
  },
  {
   "cell_type": "code",
   "execution_count": 11,
   "id": "ff9bbdbe",
   "metadata": {},
   "outputs": [],
   "source": [
    "filtered_df.to_csv(\"../data/web_history/filtered.csv\")"
   ]
  },
  {
   "cell_type": "code",
   "execution_count": 12,
   "id": "c29f7d31",
   "metadata": {},
   "outputs": [
    {
     "data": {
      "text/plain": [
       "RangeIndex(start=0, stop=3853, step=1)"
      ]
     },
     "execution_count": 12,
     "metadata": {},
     "output_type": "execute_result"
    }
   ],
   "source": [
    "filtered_df.index"
   ]
  },
  {
   "cell_type": "code",
   "execution_count": null,
   "id": "f13b411a",
   "metadata": {},
   "outputs": [],
   "source": []
  }
 ],
 "metadata": {
  "kernelspec": {
   "display_name": "Python 3",
   "language": "python",
   "name": "python3"
  },
  "language_info": {
   "codemirror_mode": {
    "name": "ipython",
    "version": 3
   },
   "file_extension": ".py",
   "mimetype": "text/x-python",
   "name": "python",
   "nbconvert_exporter": "python",
   "pygments_lexer": "ipython3",
   "version": "3.6.13"
  }
 },
 "nbformat": 4,
 "nbformat_minor": 5
}
