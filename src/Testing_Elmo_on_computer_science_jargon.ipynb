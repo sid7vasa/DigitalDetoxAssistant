{
 "cells": [
  {
   "cell_type": "code",
   "execution_count": 3,
   "metadata": {
    "id": "N8-i2hve7aiD"
   },
   "outputs": [],
   "source": [
    "import pandas as pd\n",
    "import numpy as np\n",
    "import spacy\n",
    "from tqdm import tqdm\n",
    "import re\n",
    "import time\n",
    "import pickle\n",
    "from sklearn.metrics.pairwise import cosine_similarity\n",
    "pd.set_option('display.max_colwidth', 200)"
   ]
  },
  {
   "cell_type": "code",
   "execution_count": 4,
   "metadata": {
    "id": "RIi0md7O7iui"
   },
   "outputs": [],
   "source": [
    "import tensorflow_hub as hub\n",
    "import tensorflow as tf"
   ]
  },
  {
   "cell_type": "code",
   "execution_count": 9,
   "metadata": {
    "id": "xpAmkvazBbMb"
   },
   "outputs": [],
   "source": [
    "elmo = hub.load(\"../model/elmo\")"
   ]
  },
  {
   "cell_type": "code",
   "execution_count": 10,
   "metadata": {
    "id": "LR42Q_UUBhX6"
   },
   "outputs": [],
   "source": [
    "embeddings = elmo.signatures[\"default\"](tf.constant([\n",
    "                \"convolutional neural networks is a deep learning library\",\n",
    "                \"computer networks flow is high and dangerous\",\n",
    "                \"recurrent neural networks are for sequences\",\n",
    "                \"the shop is located near the river bank\",\n",
    "                \"the bank is out of money\",\n",
    "                \"the field of deep learning is growing rapidly\",\n",
    "                \"deep learning is a type of machine learning and artificial intelligence\",\n",
    "                \"he can swim deep into the ocean swiftly\",\n",
    "                \"It was very deep and there was no way to climb out of it\",\n",
    "                \"He took a deep breath\",\n",
    "                \"machine learning is the study of computer algorithms that can improve automatically through experience and by the use of data\",\n",
    "                \"this machine stictches the cloth\",\n",
    "                ])\n",
    "                )[\"elmo\"]"
   ]
  },
  {
   "cell_type": "code",
   "execution_count": 11,
   "metadata": {
    "colab": {
     "base_uri": "https://localhost:8080/"
    },
    "id": "qxskdwv7BlKi",
    "outputId": "7716b807-32ea-4208-9728-cb21caf9f71e"
   },
   "outputs": [
    {
     "data": {
      "text/plain": [
       "(12, 20, 1024)"
      ]
     },
     "execution_count": 11,
     "metadata": {},
     "output_type": "execute_result"
    }
   ],
   "source": [
    "emb = np.array(embeddings)\n",
    "emb.shape"
   ]
  },
  {
   "cell_type": "code",
   "execution_count": 12,
   "metadata": {
    "colab": {
     "base_uri": "https://localhost:8080/"
    },
    "id": "k-DZ5j4zBmuZ",
    "outputId": "f0ec5068-03a6-4a97-f6c1-0aa7d857a66a"
   },
   "outputs": [
    {
     "data": {
      "text/plain": [
       "array([[0.8802409]], dtype=float32)"
      ]
     },
     "execution_count": 12,
     "metadata": {},
     "output_type": "execute_result"
    }
   ],
   "source": [
    "cosine_similarity(emb[0][2].reshape(1,1024), emb[2][2].reshape(1,1024))"
   ]
  },
  {
   "cell_type": "code",
   "execution_count": 13,
   "metadata": {
    "colab": {
     "base_uri": "https://localhost:8080/"
    },
    "id": "uuvMIKH3CMlr",
    "outputId": "448136fd-5edc-40c3-87db-f278ad7c5470"
   },
   "outputs": [
    {
     "data": {
      "text/plain": [
       "array([[-0.07460593,  0.501296  ,  0.05877939, ..., -0.05928462,\n",
       "         0.721176  ,  0.19622324]], dtype=float32)"
      ]
     },
     "execution_count": 13,
     "metadata": {},
     "output_type": "execute_result"
    }
   ],
   "source": [
    "emb[1][3].reshape(1,1024)"
   ]
  },
  {
   "cell_type": "code",
   "execution_count": null,
   "metadata": {},
   "outputs": [],
   "source": []
  }
 ],
 "metadata": {
  "colab": {
   "name": "Testing_Elmo_on_Computer_Science_Jargon.ipynb",
   "provenance": []
  },
  "kernelspec": {
   "display_name": "Python 3 (ipykernel)",
   "language": "python",
   "name": "python3"
  },
  "language_info": {
   "codemirror_mode": {
    "name": "ipython",
    "version": 3
   },
   "file_extension": ".py",
   "mimetype": "text/x-python",
   "name": "python",
   "nbconvert_exporter": "python",
   "pygments_lexer": "ipython3",
   "version": "3.7.11"
  }
 },
 "nbformat": 4,
 "nbformat_minor": 1
}
